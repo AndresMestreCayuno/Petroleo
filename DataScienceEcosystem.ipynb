{
 "cells": [
  {
   "cell_type": "code",
   "execution_count": null,
   "id": "c137561c-09e5-45b1-9ecd-e9f06afcbd0a",
   "metadata": {},
   "outputs": [],
   "source": []
  },
  {
   "cell_type": "markdown",
   "id": "48013037-c49d-4274-ab4a-c032386e3ccb",
   "metadata": {},
   "source": [
    "# Data Science Tools and Ecosystem"
   ]
  },
  {
   "cell_type": "markdown",
   "id": "25401c57-89a2-48cc-baee-dca6fe01ef5d",
   "metadata": {},
   "source": [
    "En este cuaderno se resumen las herramientas y el ecosistema de la ciencia de datos."
   ]
  },
  {
   "cell_type": "markdown",
   "id": "87926c6d-7e17-40aa-afe6-d082a255c0fe",
   "metadata": {},
   "source": [
    "Algunos de los lenguajes populares que utilizan los científicos de datos son:\n",
    "\n",
    "1. Python\n",
    "2. R\n",
    "3. SQL\n",
    "4. Julia\n",
    "5. Java\n"
   ]
  },
  {
   "cell_type": "markdown",
   "id": "82759437-7701-4679-8530-f1b59766eff9",
   "metadata": {},
   "source": [
    "Algunas de las bibliotecas comúnmente utilizadas por los científicos de datos incluyen:\n",
    "\n",
    "1. Pandas  \n",
    "2. NumPy  \n",
    "3. Matplotlib  \n",
    "4. Scikit-learn  \n",
    "5. TensorFlow  \n",
    "6. PyTorch\n"
   ]
  },
  {
   "cell_type": "markdown",
   "id": "f1d3b166-df29-4abc-a23e-409b2eecbe76",
   "metadata": {},
   "source": [
    "| Data Science Tools |\n",
    "|--------------------|\n",
    "| Jupyter Notebook   |\n",
    "| RStudio            |\n",
    "| Visual Studio Code |\n"
   ]
  },
  {
   "cell_type": "markdown",
   "id": "ab26a1ad-8f7a-4803-8b9b-a41f0980328c",
   "metadata": {},
   "source": [
    "## A continuación se muestran algunos ejemplos de evaluación de expresiones aritméticas en Python.\n",
    "\n",
    "- `3 + 5`  ➝  8\n",
    "- `10 - 2` ➝  8\n",
    "- `4 * 7`  ➝  28\n",
    "- `16 / 4` ➝  4.0\n",
    "- `2 ** 3` ➝  8 (exponentiation)\n",
    "- `10 % 3` ➝  1 (modulus - remainder of division)\n",
    "\n",
    "``\n"
   ]
  },
  {
   "cell_type": "code",
   "execution_count": 1,
   "id": "e689f66b-2fd0-4a6d-ad26-bd5cf954ae81",
   "metadata": {},
   "outputs": [
    {
     "data": {
      "text/plain": [
       "17.0"
      ]
     },
     "execution_count": 1,
     "metadata": {},
     "output_type": "execute_result"
    }
   ],
   "source": [
    "# Esta es una expresión aritmética simple para multiplicar y luego sumar números enteros.\n",
    "(3 * 4) + 5.\n"
   ]
  },
  {
   "cell_type": "code",
   "execution_count": 2,
   "id": "ab2b9373-7ac1-440d-b5d4-b6f5590beb24",
   "metadata": {},
   "outputs": [
    {
     "data": {
      "text/plain": [
       "3.3333333333333335"
      ]
     },
     "execution_count": 2,
     "metadata": {},
     "output_type": "execute_result"
    }
   ],
   "source": [
    "# Esto convertirá 200 minutos en horas buceando por 60.\n",
    "200 / 60"
   ]
  },
  {
   "cell_type": "markdown",
   "id": "e4f5e9d4-7d8e-4139-824f-62597e01504b",
   "metadata": {},
   "source": [
    "**Objetivos:**\n",
    "\n",
    "- Enumerar los lenguajes más utilizados en la ciencia de datos.\n",
    "- Identificar las bibliotecas más utilizadas en la ciencia de datos.\n",
    "- Demostrar cómo evaluar expresiones aritméticas en Python.\n",
    "- Convertir unidades de medida (por ejemplo, minutos a horas).\n",
    "- Crear y dar formato a tablas y listas utilizando Markdown."
   ]
  },
  {
   "cell_type": "markdown",
   "id": "5e86c5cf-94b0-40c2-b230-3064f5d3e606",
   "metadata": {},
   "source": [
    "## Autor\n",
    "\n",
    "Andres Mestre"
   ]
  },
  {
   "cell_type": "code",
   "execution_count": null,
   "id": "0b2d2dae-6a96-4cfc-8d21-2090efa726ce",
   "metadata": {},
   "outputs": [],
   "source": []
  }
 ],
 "metadata": {
  "kernelspec": {
   "display_name": "Python 3 (ipykernel)",
   "language": "python",
   "name": "python3"
  },
  "language_info": {
   "codemirror_mode": {
    "name": "ipython",
    "version": 3
   },
   "file_extension": ".py",
   "mimetype": "text/x-python",
   "name": "python",
   "nbconvert_exporter": "python",
   "pygments_lexer": "ipython3",
   "version": "3.11.9"
  }
 },
 "nbformat": 4,
 "nbformat_minor": 5
}
